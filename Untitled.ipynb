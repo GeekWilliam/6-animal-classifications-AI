import numpy as np
import scipy
import os,sys
from scipy import ndimage
import matplotlib.pyplot as plt
from keras.models import load_model
from tensorflow.keras.preprocessing import image
from PIL import Image
将tensorflow作为tf导入
＃------------
型号= tf.keras.models.load_model（'my_resnet_model.h5 / my_resnet_model.h5'）
＃------------
img_path = "m1.png"
img = image.load_img(img_path, target_size=(224, 224))

plt.imshow(img)
img = image.img_to_array(img) / 255.0
img = np.expand_dims(img, axis=0)  # 为batch添加第四维

print(model.predict(img))
np.argmax(model.predict(img))
